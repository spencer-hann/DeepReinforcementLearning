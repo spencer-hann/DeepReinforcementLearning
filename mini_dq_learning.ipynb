{
  "nbformat": 4,
  "nbformat_minor": 0,
  "metadata": {
    "colab": {
      "name": "mini_dq_learning.ipynb",
      "version": "0.3.2",
      "provenance": [],
      "include_colab_link": true
    },
    "language_info": {
      "codemirror_mode": {
        "name": "ipython",
        "version": 3
      },
      "file_extension": ".py",
      "mimetype": "text/x-python",
      "name": "python",
      "nbconvert_exporter": "python",
      "pygments_lexer": "ipython3",
      "version": "3.6.7"
    },
    "kernelspec": {
      "name": "python3",
      "display_name": "Python 3"
    },
    "accelerator": "GPU"
  },
  "cells": [
    {
      "cell_type": "markdown",
      "metadata": {
        "id": "view-in-github",
        "colab_type": "text"
      },
      "source": [
        "<a href=\"https://colab.research.google.com/github/spencer-hann/DeepReinforcementLearning/blob/master/mini_dq_learning.ipynb\" target=\"_parent\"><img src=\"https://colab.research.google.com/assets/colab-badge.svg\" alt=\"Open In Colab\"/></a>"
      ]
    },
    {
      "cell_type": "code",
      "metadata": {
        "colab_type": "code",
        "id": "omhmxArqS6ci",
        "colab": {}
      },
      "source": [
        "import numpy as np\n",
        "import matplotlib.pyplot as plt"
      ],
      "execution_count": 0,
      "outputs": []
    },
    {
      "cell_type": "code",
      "metadata": {
        "colab_type": "code",
        "id": "GYD8wh5NVRci",
        "colab": {}
      },
      "source": [
        "import gym\n",
        "from gym import wrappers\n",
        "import random\n",
        "import numpy as np\n",
        "import matplotlib\n",
        "import matplotlib.pyplot as plt\n",
        "from collections import namedtuple\n",
        "from itertools import count\n",
        "from PIL import Image\n",
        "from math import exp\n",
        "\n",
        "import torch\n",
        "import torch.nn as nn\n",
        "import torch.optim as optim\n",
        "import torch.nn.functional as F\n",
        "import torchvision.transforms as T\n",
        "\n",
        "# env = gym.make('CartPole-v1')\n",
        "# env = wrappers.Monitor(env, \"./gym-results\", force=True).unwrapped\n",
        "# env.reset()\n",
        "\n",
        "# if gpu is to be used\n",
        "device = torch.device(\"cuda\" if torch.cuda.is_available() else \"cpu\")"
      ],
      "execution_count": 0,
      "outputs": []
    },
    {
      "cell_type": "code",
      "metadata": {
        "id": "LqG0XRbICPSO",
        "colab_type": "code",
        "colab": {}
      },
      "source": [
        "\n",
        "class SliderGame:\n",
        "    def __init__(self, size=10, slider_row=None, target_row=None):\n",
        "        self.n_actions = 2\n",
        "        self.board = np.empty((size,size), dtype=np.uint8)\n",
        "        self.size = float(size)\n",
        "\n",
        "        n = 4\n",
        "        self.slider_row = slider_row\n",
        "        if slider_row == None: # nth row up\n",
        "            self.slider_row = size - n\n",
        "\n",
        "        self.target_row = target_row\n",
        "        if target_row == None: # nth row down\n",
        "            self.target_row = n\n",
        "\n",
        "        self.reset()\n",
        "\n",
        "    def reset(self):\n",
        "        self.board[...] = 0\n",
        "\n",
        "        self.target = np.random.randint(self.size)\n",
        "        self.slider = np.random.randint(self.size)\n",
        "\n",
        "        self.board[self.target_row, self.target] = 1\n",
        "#         self.board[:, self.target] = 1\n",
        "        self.board[self.slider_row, self.slider] = 1\n",
        "\n",
        "    def step(self, action):\n",
        "        self.board[self.slider_row, self.slider] = 0\n",
        "        \n",
        "        previous = (self.slider - self.target)**2\n",
        "\n",
        "        if action == 0: # move left\n",
        "            self.slider -= 1\n",
        "        else: # action == 1 move right\n",
        "            self.slider += 1\n",
        "\n",
        "        # negative reward + game over for going out of bounds\n",
        "        if self.slider < 0 or self.slider >= self.size:\n",
        "            return {'win':False}, -2., True, None\n",
        "#             return {'win':False}, -1. * self.size, True, None\n",
        "\n",
        "        self.board[self.slider_row, self.slider] = 1\n",
        "\n",
        "        # reward based on closeness of slider and target\n",
        "#         reward = (self.size / 2) - float(abs(self.slider - self.target))\n",
        "#         reward = self.size - float((self.slider - self.target)**2)\n",
        "\n",
        "#         reward = float(np.sign(previous - (self.slider - self.target)**2))\n",
        "        reward = .5 if previous - (self.slider - self.target)**2 > 0 else -1.\n",
        "        obs = {'win':None}\n",
        "        if self.slider == self.target:\n",
        "            done = True\n",
        "            reward = 2. #self.size\n",
        "            obs['win'] = True\n",
        "        else:\n",
        "            done = False\n",
        "#             reward = 0.\n",
        "\n",
        "        # Nones to match OpenAI Gym's step function\n",
        "        return obs, reward, done, None\n",
        "\n",
        "    def __str__(self):\n",
        "        return str(self.board)\n",
        "\n",
        "\n",
        "env = SliderGame()"
      ],
      "execution_count": 0,
      "outputs": []
    },
    {
      "cell_type": "code",
      "metadata": {
        "colab_type": "code",
        "id": "vPw5D-3ARf-g",
        "colab": {}
      },
      "source": [
        "Transition = namedtuple('Transition',\n",
        "                        ('state', 'action', 'next_state', 'reward'))\n",
        "\n",
        "\n",
        "class ReplayMemory(object):\n",
        "\n",
        "    def __init__(self, capacity):\n",
        "        self.capacity = capacity\n",
        "        self.memory = []\n",
        "        self.position = 0\n",
        "\n",
        "    def push(self, *args):\n",
        "        \"\"\"Saves a transition.\"\"\"\n",
        "        if len(self.memory) < self.capacity:\n",
        "            self.memory.append(None)\n",
        "        self.memory[self.position] = Transition(*args)\n",
        "        self.position = (self.position + 1) % self.capacity\n",
        "\n",
        "    def sample(self, batch_size):\n",
        "        return random.sample(self.memory, batch_size)\n",
        "\n",
        "    def __len__(self):\n",
        "        return len(self.memory)"
      ],
      "execution_count": 0,
      "outputs": []
    },
    {
      "cell_type": "code",
      "metadata": {
        "colab_type": "code",
        "id": "MXkU5tpnR6l2",
        "colab": {}
      },
      "source": [
        "class DQN(nn.Module):\n",
        "\n",
        "    def __init__(self, h, w, outputs):\n",
        "        super(DQN, self).__init__()\n",
        "        k = 3\n",
        "        self.conv1 = nn.Conv2d(1, 16, kernel_size=k, stride=1)\n",
        "        self.bn1 = nn.BatchNorm2d(16)\n",
        "        self.conv2 = nn.Conv2d(16, 32, kernel_size=k, stride=1)\n",
        "        self.bn2 = nn.BatchNorm2d(32)\n",
        "        self.conv3 = nn.Conv2d(32, 32, kernel_size=k, stride=1)\n",
        "        self.bn3 = nn.BatchNorm2d(32)\n",
        "#         self.conv_drop = nn.Dropout2d(p=0.05)\n",
        "\n",
        "        # Number of Linear input connections depends on output of conv2d layers\n",
        "        # and therefore the input image size, so compute it.\n",
        "        def conv2d_size_out(size, kernel_size = k, stride = 1):\n",
        "            return (size - (kernel_size - 1) - 1) // stride  + 1\n",
        "        convw = conv2d_size_out(conv2d_size_out(conv2d_size_out(w)))\n",
        "        convh = conv2d_size_out(conv2d_size_out(conv2d_size_out(h)))\n",
        "        linear_input_size = convw * convh * 32\n",
        "        self.head = nn.Linear(linear_input_size, outputs)\n",
        "\n",
        "    # Called with either one element to determine next action, or a batch\n",
        "    # during optimization. Returns tensor([[left0exp,right0exp]...]).\n",
        "    def forward(self, x):\n",
        "        x = F.relu(self.bn1(self.conv1(x)))\n",
        "#         x = self.conv_drop(x)\n",
        "        x = F.relu(self.bn2(self.conv2(x)))\n",
        "#         x = self.conv_drop(x)\n",
        "        x = F.relu(self.bn3(self.conv3(x)))\n",
        "        return self.head(x.view(x.size(0), -1))"
      ],
      "execution_count": 0,
      "outputs": []
    },
    {
      "cell_type": "code",
      "metadata": {
        "colab_type": "code",
        "id": "OG1V2XRyR86y",
        "colab": {}
      },
      "source": [
        "resize = T.Compose([T.ToPILImage(),\n",
        "#                     T.Resize((40,40), interpolation=Image.CUBIC),\n",
        "                    T.ToTensor(),\n",
        "                   ])\n",
        "\n",
        "def get_screen():\n",
        "    screen = np.expand_dims(env.board, axis=2)\n",
        "    return resize(screen).unsqueeze(0).to(device)\n",
        "\n",
        "# env.reset()\n",
        "# img = get_screen().cpu()\n",
        "# print(type(img))\n",
        "# print(img.dtype)\n",
        "# print(img.shape)\n",
        "# img = img.squeeze().numpy()\n",
        "# plt.imshow(img, interpolation='none', cmap=\"gray\")\n",
        "# plt.title('Example extracted screen')\n",
        "# plt.show()"
      ],
      "execution_count": 0,
      "outputs": []
    },
    {
      "cell_type": "code",
      "metadata": {
        "colab_type": "code",
        "id": "uveUF-DgR-rZ",
        "colab": {}
      },
      "source": [
        "BATCH_SIZE = 32\n",
        "GAMMA = 0.8 # original 0.999\n",
        "EPS_START = .9\n",
        "EPS_END = 0.05\n",
        "EPS_DECAY = 800\n",
        "TARGET_UPDATE = 10\n",
        "\n",
        "# Get screen size so that we can initialize layers correctly based on shape\n",
        "screen_height, screen_width = env.board.shape\n",
        "\n",
        "# Get number of actions from gym action space\n",
        "n_actions = env.n_actions\n",
        "\n",
        "policy_net = DQN(screen_height, screen_width, n_actions).to(device)\n",
        "target_net = DQN(screen_height, screen_width, n_actions).to(device)\n",
        "target_net.load_state_dict(policy_net.state_dict())\n",
        "target_net.eval()\n",
        "\n",
        "optimizer = optim.RMSprop(policy_net.parameters(),lr=0.00008)#, weight_decay=0.0001\n",
        "memory = ReplayMemory(20_000)\n",
        "\n",
        "\n",
        "steps_done = 0\n",
        "\n",
        "def select_action(state, testing=False):\n",
        "    global steps_done\n",
        "    sample = random.random()\n",
        "    eps_threshold = EPS_END + (EPS_START - EPS_END) * \\\n",
        "        exp(-1. * steps_done / EPS_DECAY)\n",
        "    steps_done += 1\n",
        "    if sample > eps_threshold or testing:\n",
        "        with torch.no_grad():\n",
        "            # t.max(1) will return largest column value of each row.\n",
        "            # second column on max result is index of where max element was\n",
        "            # found, so we pick action with the larger expected reward.\n",
        "#             return policy_net(state).max(1)[1].view(1, 1)\n",
        "            tmp = policy_net(state)\n",
        "            return tmp.max(1)[1].view(1, 1)\n",
        "    else:\n",
        "        return torch.tensor([[random.randrange(n_actions)]], device=device, dtype=torch.long)"
      ],
      "execution_count": 0,
      "outputs": []
    },
    {
      "cell_type": "code",
      "metadata": {
        "colab_type": "code",
        "id": "T03S3qetti-J",
        "colab": {}
      },
      "source": [
        "thresholds = []\n",
        "rewards = []\n",
        "\n",
        "def plot_rewards():\n",
        "    plt.xlabel('Episode')\n",
        "    rewards_tmp = np.array(rewards)\n",
        "    plt.plot(rewards_tmp, '+', label=\"rewards\")\n",
        "    if thresholds:\n",
        "        plt.plot(np.array(thresholds), label=\"epsilon\")\n",
        "        means = []\n",
        "        for i,r in enumerate(rewards_tmp):\n",
        "            means.append(rewards_tmp[max(0,i-40):i+1].mean())\n",
        "        plt.plot(means, label=\"moving mean\")\n",
        "        plt.title('Training')\n",
        "    else:\n",
        "        mean = rewards_tmp.mean()\n",
        "        plt.axhline(mean, label=f'mean:{mean:.2}')\n",
        "        plt.title('Testing')\n",
        "        \n",
        "    plt.grid(); plt.legend(); plt.show()"
      ],
      "execution_count": 0,
      "outputs": []
    },
    {
      "cell_type": "code",
      "metadata": {
        "colab_type": "code",
        "id": "WmUTaUjVTCiZ",
        "colab": {}
      },
      "source": [
        "def optimize_model():\n",
        "    if len(memory) < BATCH_SIZE:\n",
        "        return\n",
        "    transitions = memory.sample(BATCH_SIZE)\n",
        "    # Transpose the batch (see https://stackoverflow.com/a/19343/3343043 for\n",
        "    # detailed explanation). This converts batch-array of Transitions\n",
        "    # to Transition of batch-arrays.\n",
        "    batch = Transition(*zip(*transitions))\n",
        "\n",
        "    # Compute a mask of non-final states and concatenate the batch elements\n",
        "    # (a final state would've been the one after which simulation ended)\n",
        "    non_final_mask = torch.tensor(tuple(map(lambda s: s is not None,\n",
        "                                          batch.next_state)), device=device, dtype=torch.uint8)\n",
        "    non_final_next_states = torch.cat([s for s in batch.next_state\n",
        "                                                if s is not None])\n",
        "    state_batch = torch.cat(batch.state)\n",
        "    action_batch = torch.cat(batch.action)\n",
        "    reward_batch = torch.cat(batch.reward)\n",
        "\n",
        "    # Compute Q(s_t, a) - the model computes Q(s_t), then we select the\n",
        "    # columns of actions taken. These are the actions which would've been taken\n",
        "    # for each batch state according to policy_net\n",
        "    state_action_values = policy_net(state_batch).gather(1, action_batch)\n",
        "\n",
        "    # Compute V(s_{t+1}) for all next states.\n",
        "    # Expected values of actions for non_final_next_states are computed based\n",
        "    # on the \"older\" target_net; selecting their best reward with max(1)[0].\n",
        "    # This is merged based on the mask, such that we'll have either the expected\n",
        "    # state value or 0 in case the state was final.\n",
        "    next_state_values = torch.zeros(BATCH_SIZE, device=device)\n",
        "    next_state_values[non_final_mask] = target_net(non_final_next_states).max(1)[0].detach()\n",
        "    # Compute the expected Q values\n",
        "    expected_state_action_values = (next_state_values * GAMMA) + reward_batch\n",
        "\n",
        "    # Compute Huber loss\n",
        "    loss = F.smooth_l1_loss(state_action_values, expected_state_action_values.unsqueeze(1))\n",
        "\n",
        "    # Optimize the model\n",
        "    optimizer.zero_grad()\n",
        "    loss.backward()\n",
        "    for param in policy_net.parameters():\n",
        "        param.grad.data.clamp_(-1, 1)\n",
        "    optimizer.step()"
      ],
      "execution_count": 0,
      "outputs": []
    },
    {
      "cell_type": "code",
      "metadata": {
        "colab_type": "code",
        "id": "JB0m_9bVTFX8",
        "outputId": "61bea60c-9291-46b9-a501-2bdd6a0b067d",
        "colab": {
          "base_uri": "https://localhost:8080/",
          "height": 416
        }
      },
      "source": [
        "from tqdm import tqdm\n",
        "\n",
        "rewards = [0]\n",
        "thresholds = []\n",
        "\n",
        "timeout_limit = 400\n",
        "timeout_count = 0\n",
        "\n",
        "num_episodes = 1000\n",
        "for i_episode in tqdm(range(num_episodes)):\n",
        "    # Initialize the environment and state\n",
        "    \n",
        "#     if i_episode > num_episodes * .5: EPS_END = 0    \n",
        "    \n",
        "    env.reset()\n",
        "    last_screen = get_screen()\n",
        "    current_screen = get_screen()\n",
        "    state = current_screen - last_screen\n",
        "    for t in count():\n",
        "        # Select and perform an action\n",
        "        action = select_action(state)\n",
        "        obs, reward, done, _ = env.step(action.item())\n",
        "        reward = torch.tensor([reward], device=device)\n",
        "\n",
        "        \n",
        "#         print(reward.item())\n",
        "#         img = get_screen().cpu().squeeze().numpy()\n",
        "#         plt.imshow(img, interpolation='none', cmap=\"gray\")\n",
        "#         plt.show()\n",
        "        \n",
        "\n",
        "        # Observe new state\n",
        "        last_screen = current_screen\n",
        "        current_screen = get_screen()\n",
        "        if not done:\n",
        "            next_state = current_screen - last_screen\n",
        "        else:\n",
        "            next_state = None\n",
        "\n",
        "        # Store the transition in memory\n",
        "        memory.push(state, action, next_state, reward)\n",
        "\n",
        "        # Move to the next state\n",
        "        state = next_state\n",
        "\n",
        "        # Perform one step of the optimization (on the target network)\n",
        "        optimize_model()\n",
        "        if done or t > timeout_limit:\n",
        "            eps_threshold = EPS_END + (EPS_START - EPS_END) * \\\n",
        "                exp(-1. * steps_done / EPS_DECAY)\n",
        "            thresholds.append(eps_threshold)\n",
        "            rewards.append(1 if obs['win'] else 0)\n",
        "            if t > timeout_limit:\n",
        "                timeout_count += 1\n",
        "            break\n",
        "    if (i_episode+1) % 50 == 0:\n",
        "        print(f'\\tMean:{np.mean(rewards[-50:]):.4}\\teps:{np.mean(thresholds[-50:]):.4}\\tTOrate:{timeout_count / 50:.2}')\n",
        "        timeout_count = 0\n",
        "\n",
        "    # Update the target network, copying all weights and biases in DQN\n",
        "    if i_episode % TARGET_UPDATE == 0:\n",
        "        target_net.load_state_dict(policy_net.state_dict())\n",
        "\n",
        "print('Complete')"
      ],
      "execution_count": 90,
      "outputs": [
        {
          "output_type": "stream",
          "text": [
            "  5%|▌         | 51/1000 [00:05<02:20,  6.77it/s]"
          ],
          "name": "stderr"
        },
        {
          "output_type": "stream",
          "text": [
            "\tMean:0.72\teps:0.5592\tTOrate:0.0\n"
          ],
          "name": "stdout"
        },
        {
          "output_type": "stream",
          "text": [
            " 10%|▉         | 99/1000 [00:35<20:06,  1.34s/it]"
          ],
          "name": "stderr"
        },
        {
          "output_type": "stream",
          "text": [
            "\tMean:0.72\teps:0.08633\tTOrate:0.12\n"
          ],
          "name": "stdout"
        },
        {
          "output_type": "stream",
          "text": [
            " 15%|█▍        | 148/1000 [00:51<04:53,  2.90it/s]"
          ],
          "name": "stderr"
        },
        {
          "output_type": "stream",
          "text": [
            "\tMean:0.76\teps:0.05003\tTOrate:0.06\n"
          ],
          "name": "stdout"
        },
        {
          "output_type": "stream",
          "text": [
            " 20%|█▉        | 199/1000 [01:12<05:46,  2.31it/s]"
          ],
          "name": "stderr"
        },
        {
          "output_type": "stream",
          "text": [
            "\tMean:0.82\teps:0.05\tTOrate:0.1\n"
          ],
          "name": "stdout"
        },
        {
          "output_type": "stream",
          "text": [
            " 25%|██▌       | 252/1000 [01:26<02:10,  5.74it/s]"
          ],
          "name": "stderr"
        },
        {
          "output_type": "stream",
          "text": [
            "\tMean:0.86\teps:0.05\tTOrate:0.04\n"
          ],
          "name": "stdout"
        },
        {
          "output_type": "stream",
          "text": [
            " 30%|███       | 303/1000 [01:36<01:19,  8.80it/s]"
          ],
          "name": "stderr"
        },
        {
          "output_type": "stream",
          "text": [
            "\tMean:0.9\teps:0.05\tTOrate:0.02\n"
          ],
          "name": "stdout"
        },
        {
          "output_type": "stream",
          "text": [
            " 35%|███▌      | 353/1000 [01:42<03:14,  3.33it/s]"
          ],
          "name": "stderr"
        },
        {
          "output_type": "stream",
          "text": [
            "\tMean:0.92\teps:0.05\tTOrate:0.02\n"
          ],
          "name": "stdout"
        },
        {
          "output_type": "stream",
          "text": [
            " 40%|███▉      | 399/1000 [01:50<03:23,  2.95it/s]"
          ],
          "name": "stderr"
        },
        {
          "output_type": "stream",
          "text": [
            "\tMean:0.86\teps:0.05\tTOrate:0.02\n"
          ],
          "name": "stdout"
        },
        {
          "output_type": "stream",
          "text": [
            " 46%|████▌     | 456/1000 [01:57<00:48, 11.17it/s]"
          ],
          "name": "stderr"
        },
        {
          "output_type": "stream",
          "text": [
            "\tMean:0.86\teps:0.05\tTOrate:0.0\n"
          ],
          "name": "stdout"
        },
        {
          "output_type": "stream",
          "text": [
            " 51%|█████     | 511/1000 [02:06<02:26,  3.34it/s]"
          ],
          "name": "stderr"
        },
        {
          "output_type": "stream",
          "text": [
            "\tMean:0.8\teps:0.05\tTOrate:0.02\n"
          ],
          "name": "stdout"
        },
        {
          "output_type": "stream",
          "text": [
            " 55%|█████▌    | 550/1000 [02:09<00:57,  7.87it/s]"
          ],
          "name": "stderr"
        },
        {
          "output_type": "stream",
          "text": [
            "\tMean:0.86\teps:0.05\tTOrate:0.0\n"
          ],
          "name": "stdout"
        },
        {
          "output_type": "stream",
          "text": [
            " 60%|██████    | 603/1000 [02:14<00:20, 19.23it/s]"
          ],
          "name": "stderr"
        },
        {
          "output_type": "stream",
          "text": [
            "\tMean:0.88\teps:0.05\tTOrate:0.0\n"
          ],
          "name": "stdout"
        },
        {
          "output_type": "stream",
          "text": [
            " 65%|██████▍   | 649/1000 [02:34<02:01,  2.88it/s]"
          ],
          "name": "stderr"
        },
        {
          "output_type": "stream",
          "text": [
            "\tMean:0.8\teps:0.05\tTOrate:0.12\n"
          ],
          "name": "stdout"
        },
        {
          "output_type": "stream",
          "text": [
            " 70%|██████▉   | 698/1000 [02:50<00:59,  5.11it/s]"
          ],
          "name": "stderr"
        },
        {
          "output_type": "stream",
          "text": [
            "\tMean:0.82\teps:0.05\tTOrate:0.08\n"
          ],
          "name": "stdout"
        },
        {
          "output_type": "stream",
          "text": [
            " 76%|███████▌  | 755/1000 [02:58<00:25,  9.55it/s]"
          ],
          "name": "stderr"
        },
        {
          "output_type": "stream",
          "text": [
            "\tMean:0.82\teps:0.05\tTOrate:0.02\n"
          ],
          "name": "stdout"
        },
        {
          "output_type": "stream",
          "text": [
            " 80%|████████  | 804/1000 [03:01<00:09, 21.73it/s]"
          ],
          "name": "stderr"
        },
        {
          "output_type": "stream",
          "text": [
            "\tMean:0.9\teps:0.05\tTOrate:0.0\n"
          ],
          "name": "stdout"
        },
        {
          "output_type": "stream",
          "text": [
            " 85%|████████▌ | 853/1000 [03:07<00:28,  5.14it/s]"
          ],
          "name": "stderr"
        },
        {
          "output_type": "stream",
          "text": [
            "\tMean:0.88\teps:0.05\tTOrate:0.0\n"
          ],
          "name": "stdout"
        },
        {
          "output_type": "stream",
          "text": [
            " 90%|█████████ | 901/1000 [03:10<00:12,  7.85it/s]"
          ],
          "name": "stderr"
        },
        {
          "output_type": "stream",
          "text": [
            "\tMean:0.94\teps:0.05\tTOrate:0.0\n"
          ],
          "name": "stdout"
        },
        {
          "output_type": "stream",
          "text": [
            " 96%|█████████▌| 955/1000 [03:19<00:15,  2.86it/s]"
          ],
          "name": "stderr"
        },
        {
          "output_type": "stream",
          "text": [
            "\tMean:0.8\teps:0.05\tTOrate:0.0\n"
          ],
          "name": "stdout"
        },
        {
          "output_type": "stream",
          "text": [
            "100%|██████████| 1000/1000 [03:23<00:00,  4.91it/s]"
          ],
          "name": "stderr"
        },
        {
          "output_type": "stream",
          "text": [
            "\tMean:0.82\teps:0.05\tTOrate:0.0\n",
            "Complete\n"
          ],
          "name": "stdout"
        },
        {
          "output_type": "stream",
          "text": [
            "\n"
          ],
          "name": "stderr"
        }
      ]
    },
    {
      "cell_type": "code",
      "metadata": {
        "colab_type": "code",
        "id": "rrr-WLK_T-h3",
        "colab": {
          "base_uri": "https://localhost:8080/",
          "height": 313
        },
        "outputId": "fff2b96a-86ab-405a-d8e7-fe600ae34f35"
      },
      "source": [
        "plot_rewards()\n",
        "print(np.mean(rewards))"
      ],
      "execution_count": 91,
      "outputs": [
        {
          "output_type": "display_data",
          "data": {
            "image/png": "[encoded data removed]",
            "text/plain": [
              "<Figure size 432x288 with 1 Axes>"
            ]
          },
          "metadata": {
            "tags": []
          }
        },
        {
          "output_type": "stream",
          "text": [
            "0.8361638361638362\n"
          ],
          "name": "stdout"
        }
      ]
    },
    {
      "cell_type": "code",
      "metadata": {
        "colab_type": "code",
        "id": "xt-JybUoYqqB",
        "colab": {}
      },
      "source": [
        "policy_net.eval()\n",
        "torch.no_grad();"
      ],
      "execution_count": 0,
      "outputs": []
    },
    {
      "cell_type": "code",
      "metadata": {
        "id": "ssXkqvbg3DKY",
        "colab_type": "code",
        "colab": {
          "base_uri": "https://localhost:8080/",
          "height": 126
        },
        "outputId": "85529f4c-1768-4cf5-8526-30125b8dd519"
      },
      "source": [
        "from tqdm import tqdm\n",
        "\n",
        "rewards = []\n",
        "thresholds = []\n",
        "\n",
        "EPS_END = 0\n",
        "\n",
        "timeout_count = 0\n",
        "\n",
        "num_episodes = 200\n",
        "for i_episode in tqdm(range(num_episodes)):\n",
        "    # Initialize the environment and state\n",
        "    \n",
        "    env.reset()\n",
        "    last_screen = get_screen()\n",
        "    current_screen = get_screen()\n",
        "    state = current_screen - last_screen\n",
        "    for t in count():\n",
        "        # Select and perform an action\n",
        "        action = select_action(state, testing = True)\n",
        "        _, reward, done, _ = env.step(action.item())\n",
        "        reward = torch.tensor([reward], device=device)\n",
        "\n",
        "        # Observe new state\n",
        "        last_screen = current_screen\n",
        "        current_screen = get_screen()\n",
        "        if not done:\n",
        "            next_state = current_screen - last_screen\n",
        "        else:\n",
        "            next_state = None\n",
        "\n",
        "        # Move to the next state\n",
        "        state = next_state\n",
        "\n",
        "        if done or t > timeout_limit:\n",
        "            rewards.append(1 if reward.item() > 0 else 0)\n",
        "            break\n",
        "    if (i_episode+1) % 50 == 0:\n",
        "        print(f'\\tMean:{np.mean(rewards[-50:]):.4}\\tTOrate:{timeout_count / i_episode%50:.2}')\n",
        "        timeout_count = 0\n",
        "\n",
        "\n",
        "print('Complete')"
      ],
      "execution_count": 93,
      "outputs": [
        {
          "output_type": "stream",
          "text": [
            " 25%|██▌       | 50/200 [00:02<00:14, 10.58it/s]"
          ],
          "name": "stderr"
        },
        {
          "output_type": "stream",
          "text": [
            "\tMean:0.82\tTOrate:0.0\n"
          ],
          "name": "stdout"
        },
        {
          "output_type": "stream",
          "text": [
            " 50%|█████     | 100/200 [00:04<00:07, 12.70it/s]"
          ],
          "name": "stderr"
        },
        {
          "output_type": "stream",
          "text": [
            "\tMean:0.88\tTOrate:0.0\n"
          ],
          "name": "stdout"
        },
        {
          "output_type": "stream",
          "text": [
            " 74%|███████▍  | 148/200 [00:09<00:05,  9.80it/s]"
          ],
          "name": "stderr"
        },
        {
          "output_type": "stream",
          "text": [
            "\tMean:0.84\tTOrate:0.0\n"
          ],
          "name": "stdout"
        },
        {
          "output_type": "stream",
          "text": [
            "100%|██████████| 200/200 [00:12<00:00, 16.16it/s]"
          ],
          "name": "stderr"
        },
        {
          "output_type": "stream",
          "text": [
            "\tMean:0.8\tTOrate:0.0\n",
            "Complete\n"
          ],
          "name": "stdout"
        },
        {
          "output_type": "stream",
          "text": [
            "\n"
          ],
          "name": "stderr"
        }
      ]
    },
    {
      "cell_type": "code",
      "metadata": {
        "id": "ZgTJnqW53C-v",
        "colab_type": "code",
        "colab": {
          "base_uri": "https://localhost:8080/",
          "height": 313
        },
        "outputId": "25609ed3-d769-4232-a1ef-d39f2adc9e1f"
      },
      "source": [
        "plot_rewards()\n",
        "print(np.mean(rewards))"
      ],
      "execution_count": 94,
      "outputs": [
        {
          "output_type": "display_data",
          "data": {
            "image/png": "[encoded data removed]",
            "text/plain": [
              "<Figure size 432x288 with 1 Axes>"
            ]
          },
          "metadata": {
            "tags": []
          }
        },
        {
          "output_type": "stream",
          "text": [
            "0.835\n"
          ],
          "name": "stdout"
        }
      ]
    },
    {
      "cell_type": "code",
      "metadata": {
        "id": "W5AjbvQGhk98",
        "colab_type": "code",
        "colab": {
          "base_uri": "https://localhost:8080/",
          "height": 126
        },
        "outputId": "bb9a34f2-ddaf-478e-b520-e3527e8d412f"
      },
      "source": [
        "from tqdm import tqdm\n",
        "\n",
        "rewards = []\n",
        "thresholds = []\n",
        "\n",
        "env.target_row -= 1\n",
        "env.slider_row += 1\n",
        "\n",
        "timeout_count = 0\n",
        "\n",
        "num_episodes = 200\n",
        "for i_episode in tqdm(range(num_episodes)):\n",
        "    # Initialize the environment and state\n",
        "    \n",
        "    env.reset()\n",
        "    last_screen = get_screen()\n",
        "    current_screen = get_screen()\n",
        "    state = current_screen - last_screen\n",
        "    for t in count():\n",
        "        # Select and perform an action\n",
        "        action = select_action(state, testing = True)\n",
        "        _, reward, done, _ = env.step(action.item())\n",
        "        reward = torch.tensor([reward], device=device)\n",
        "\n",
        "        # Observe new state\n",
        "        last_screen = current_screen\n",
        "        current_screen = get_screen()\n",
        "        if not done:\n",
        "            next_state = current_screen - last_screen\n",
        "        else:\n",
        "            next_state = None\n",
        "\n",
        "        # Move to the next state\n",
        "        state = next_state\n",
        "\n",
        "        if done or t > 1000:\n",
        "            rewards.append(1 if reward.item() > 0 else 0)\n",
        "            break\n",
        "    if (i_episode+1) % 50 == 0:\n",
        "        print(f'\\tMean:{np.mean(rewards[-50:]):.4}\\tTOrate:{timeout_count / i_episode%50:.2}')\n",
        "        timeout_count = 0\n",
        "\n",
        "\n",
        "print('Complete')"
      ],
      "execution_count": 95,
      "outputs": [
        {
          "output_type": "stream",
          "text": [
            " 24%|██▍       | 49/200 [00:19<01:27,  1.73it/s]"
          ],
          "name": "stderr"
        },
        {
          "output_type": "stream",
          "text": [
            "\tMean:0.54\tTOrate:0.0\n"
          ],
          "name": "stdout"
        },
        {
          "output_type": "stream",
          "text": [
            " 50%|█████     | 100/200 [00:42<00:53,  1.88it/s]"
          ],
          "name": "stderr"
        },
        {
          "output_type": "stream",
          "text": [
            "\tMean:0.58\tTOrate:0.0\n"
          ],
          "name": "stdout"
        },
        {
          "output_type": "stream",
          "text": [
            " 75%|███████▌  | 150/200 [01:08<00:29,  1.72it/s]"
          ],
          "name": "stderr"
        },
        {
          "output_type": "stream",
          "text": [
            "\tMean:0.46\tTOrate:0.0\n"
          ],
          "name": "stdout"
        },
        {
          "output_type": "stream",
          "text": [
            "100%|██████████| 200/200 [01:32<00:00,  1.67it/s]"
          ],
          "name": "stderr"
        },
        {
          "output_type": "stream",
          "text": [
            "\tMean:0.58\tTOrate:0.0\n",
            "Complete\n"
          ],
          "name": "stdout"
        },
        {
          "output_type": "stream",
          "text": [
            "\n"
          ],
          "name": "stderr"
        }
      ]
    },
    {
      "cell_type": "code",
      "metadata": {
        "colab_type": "code",
        "id": "P5MeSbxOOvsZ",
        "colab": {
          "base_uri": "https://localhost:8080/",
          "height": 313
        },
        "outputId": "d480f5fe-e068-44f7-e034-62fc486be157"
      },
      "source": [
        "plot_rewards()\n",
        "print(np.mean(rewards))"
      ],
      "execution_count": 96,
      "outputs": [
        {
          "output_type": "display_data",
          "data": {
            "image/png": "[encoded data removed]",
            "text/plain": [
              "<Figure size 432x288 with 1 Axes>"
            ]
          },
          "metadata": {
            "tags": []
          }
        },
        {
          "output_type": "stream",
          "text": [
            "0.54\n"
          ],
          "name": "stdout"
        }
      ]
    }
  ]
}