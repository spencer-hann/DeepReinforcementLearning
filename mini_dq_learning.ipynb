{
  "nbformat": 4,
  "nbformat_minor": 0,
  "metadata": {
    "colab": {
      "name": "mini_dq_learning.ipynb",
      "version": "0.3.2",
      "provenance": [],
      "include_colab_link": true
    },
    "language_info": {
      "codemirror_mode": {
        "name": "ipython",
        "version": 3
      },
      "file_extension": ".py",
      "mimetype": "text/x-python",
      "name": "python",
      "nbconvert_exporter": "python",
      "pygments_lexer": "ipython3",
      "version": "3.6.7"
    },
    "kernelspec": {
      "name": "python3",
      "display_name": "Python 3"
    },
    "accelerator": "GPU"
  },
  "cells": [
    {
      "cell_type": "markdown",
      "metadata": {
        "id": "view-in-github",
        "colab_type": "text"
      },
      "source": [
        "<a href=\"https://colab.research.google.com/github/spencer-hann/DeepReinforcementLearning/blob/master/mini_dq_learning.ipynb\" target=\"_parent\"><img src=\"https://colab.research.google.com/assets/colab-badge.svg\" alt=\"Open In Colab\"/></a>"
      ]
    },
    {
      "cell_type": "code",
      "metadata": {
        "colab_type": "code",
        "id": "omhmxArqS6ci",
        "colab": {}
      },
      "source": [
        "import numpy as np\n",
        "import matplotlib.pyplot as plt"
      ],
      "execution_count": 0,
      "outputs": []
    },
    {
      "cell_type": "code",
      "metadata": {
        "colab_type": "code",
        "id": "GYD8wh5NVRci",
        "colab": {}
      },
      "source": [
        "import gym\n",
        "from gym import wrappers\n",
        "import random\n",
        "import numpy as np\n",
        "import matplotlib\n",
        "import matplotlib.pyplot as plt\n",
        "from collections import namedtuple\n",
        "from itertools import count\n",
        "from PIL import Image\n",
        "from math import exp\n",
        "\n",
        "import torch\n",
        "import torch.nn as nn\n",
        "import torch.optim as optim\n",
        "import torch.nn.functional as F\n",
        "import torchvision.transforms as T\n",
        "\n",
        "# env = gym.make('CartPole-v1')\n",
        "# env = wrappers.Monitor(env, \"./gym-results\", force=True).unwrapped\n",
        "# env.reset()\n",
        "\n",
        "# if gpu is to be used\n",
        "device = torch.device(\"cuda\" if torch.cuda.is_available() else \"cpu\")"
      ],
      "execution_count": 0,
      "outputs": []
    },
    {
      "cell_type": "code",
      "metadata": {
        "id": "LqG0XRbICPSO",
        "colab_type": "code",
        "colab": {}
      },
      "source": [
        "\n",
        "class SliderGame:\n",
        "    def __init__(self, size=10, slider_row=None, target_row=None):\n",
        "        self.n_actions = 2\n",
        "        self.board = np.empty((size,size), dtype=np.uint8)\n",
        "        self.size = float(size)\n",
        "\n",
        "        n = 4\n",
        "        self.slider_row = slider_row\n",
        "        if slider_row == None: # nth row up\n",
        "            self.slider_row = size - n\n",
        "\n",
        "        self.target_row = target_row\n",
        "        if target_row == None: # nth row down\n",
        "            self.target_row = n\n",
        "\n",
        "        self.reset()\n",
        "\n",
        "    def reset(self):\n",
        "        self.board[...] = 0\n",
        "\n",
        "        self.target = np.random.randint(self.size)\n",
        "        self.slider = np.random.randint(self.size)\n",
        "\n",
        "        self.board[self.target_row, self.target] = 1\n",
        "#         self.board[:, self.target] = 1\n",
        "        self.board[self.slider_row, self.slider] = 1\n",
        "\n",
        "    def step(self, action):\n",
        "        self.board[self.slider_row, self.slider] = 0\n",
        "        \n",
        "        previous = (self.slider - self.target)**2\n",
        "\n",
        "        if action == 0: # move left\n",
        "            self.slider -= 1\n",
        "        else: # action == 1 move right\n",
        "            self.slider += 1\n",
        "\n",
        "        # negative reward + game over for going out of bounds\n",
        "        if self.slider < 0 or self.slider >= self.size:\n",
        "            return {'win':False}, -2., True, None\n",
        "#             return {'win':False}, -1. * self.size, True, None\n",
        "\n",
        "        self.board[self.slider_row, self.slider] = 1\n",
        "\n",
        "        # reward based on closeness of slider and target\n",
        "#         reward = (self.size / 2) - float(abs(self.slider - self.target))\n",
        "#         reward = self.size - float((self.slider - self.target)**2)\n",
        "\n",
        "#         reward = float(np.sign(previous - (self.slider - self.target)**2))\n",
        "        reward = .5 if previous - (self.slider - self.target)**2 > 0 else -1.\n",
        "        obs = {'win':None}\n",
        "        if self.slider == self.target:\n",
        "            done = True\n",
        "            reward = 2. #self.size\n",
        "            obs['win'] = True\n",
        "        else:\n",
        "            done = False\n",
        "#             reward = 0.\n",
        "\n",
        "        # Nones to match OpenAI Gym's step function\n",
        "        return obs, reward, done, None\n",
        "\n",
        "    def __str__(self):\n",
        "        return str(self.board)\n",
        "\n",
        "\n",
        "env = SliderGame()"
      ],
      "execution_count": 0,
      "outputs": []
    },
    {
      "cell_type": "code",
      "metadata": {
        "colab_type": "code",
        "id": "vPw5D-3ARf-g",
        "colab": {}
      },
      "source": [
        "Transition = namedtuple('Transition',\n",
        "                        ('state', 'action', 'next_state', 'reward'))\n",
        "\n",
        "\n",
        "class ReplayMemory(object):\n",
        "\n",
        "    def __init__(self, capacity):\n",
        "        self.capacity = capacity\n",
        "        self.memory = []\n",
        "        self.position = 0\n",
        "\n",
        "    def push(self, *args):\n",
        "        \"\"\"Saves a transition.\"\"\"\n",
        "        if len(self.memory) < self.capacity:\n",
        "            self.memory.append(None)\n",
        "        self.memory[self.position] = Transition(*args)\n",
        "        self.position = (self.position + 1) % self.capacity\n",
        "\n",
        "    def sample(self, batch_size):\n",
        "        return random.sample(self.memory, batch_size)\n",
        "\n",
        "    def __len__(self):\n",
        "        return len(self.memory)"
      ],
      "execution_count": 0,
      "outputs": []
    },
    {
      "cell_type": "code",
      "metadata": {
        "colab_type": "code",
        "id": "MXkU5tpnR6l2",
        "colab": {}
      },
      "source": [
        "class DQN(nn.Module):\n",
        "\n",
        "    def __init__(self, h, w, outputs):\n",
        "        super(DQN, self).__init__()\n",
        "        k = 3\n",
        "        self.conv1 = nn.Conv2d(1, 16, kernel_size=k, stride=1)\n",
        "        self.bn1 = nn.BatchNorm2d(16)\n",
        "        self.conv2 = nn.Conv2d(16, 32, kernel_size=k, stride=1)\n",
        "        self.bn2 = nn.BatchNorm2d(32)\n",
        "        self.conv3 = nn.Conv2d(32, 32, kernel_size=k, stride=1)\n",
        "        self.bn3 = nn.BatchNorm2d(32)\n",
        "        self.conv_drop = nn.Dropout2d(p=0.05)\n",
        "\n",
        "        # Number of Linear input connections depends on output of conv2d layers\n",
        "        # and therefore the input image size, so compute it.\n",
        "        def conv2d_size_out(size, kernel_size = k, stride = 1):\n",
        "            return (size - (kernel_size - 1) - 1) // stride  + 1\n",
        "        convw = conv2d_size_out(conv2d_size_out(conv2d_size_out(w)))\n",
        "        convh = conv2d_size_out(conv2d_size_out(conv2d_size_out(h)))\n",
        "        linear_input_size = convw * convh * 32\n",
        "        self.head = nn.Linear(linear_input_size, outputs)\n",
        "\n",
        "    # Called with either one element to determine next action, or a batch\n",
        "    # during optimization. Returns tensor([[left0exp,right0exp]...]).\n",
        "    def forward(self, x):\n",
        "        x = F.relu(self.bn1(self.conv1(x)))\n",
        "#         x = self.conv_drop(x)\n",
        "        x = F.relu(self.bn2(self.conv2(x)))\n",
        "#         x = self.conv_drop(x)\n",
        "        x = F.relu(self.bn3(self.conv3(x)))\n",
        "        return self.head(x.view(x.size(0), -1))"
      ],
      "execution_count": 0,
      "outputs": []
    },
    {
      "cell_type": "code",
      "metadata": {
        "colab_type": "code",
        "id": "OG1V2XRyR86y",
        "outputId": "2a6e5592-9858-4bb0-b2aa-25d453776132",
        "colab": {
          "base_uri": "https://localhost:8080/",
          "height": 335
        }
      },
      "source": [
        "resize = T.Compose([T.ToPILImage(),\n",
        "#                     T.Resize((40,40), interpolation=Image.CUBIC),\n",
        "                    T.ToTensor(),\n",
        "                   ])\n",
        "\n",
        "def get_screen():\n",
        "    screen = np.expand_dims(env.board, axis=2)\n",
        "    return resize(screen).unsqueeze(0).to(device)\n",
        "\n",
        "env.reset()\n",
        "# plt.figure()\n",
        "img = get_screen().cpu()\n",
        "print(type(img))\n",
        "print(img.dtype)\n",
        "print(img.shape)\n",
        "img = img.squeeze().numpy()\n",
        "plt.imshow(img, interpolation='none', cmap=\"gray\")\n",
        "plt.title('Example extracted screen')\n",
        "plt.show()"
      ],
      "execution_count": 6,
      "outputs": [
        {
          "output_type": "stream",
          "text": [
            "<class 'torch.Tensor'>\n",
            "torch.float32\n",
            "torch.Size([1, 1, 10, 10])\n"
          ],
          "name": "stdout"
        },
        {
          "output_type": "display_data",
          "data": {
            "image/png": "[encoded data removed]",
            "text/plain": [
              "<Figure size 432x288 with 1 Axes>"
            ]
          },
          "metadata": {
            "tags": []
          }
        }
      ]
    },
    {
      "cell_type": "code",
      "metadata": {
        "colab_type": "code",
        "id": "uveUF-DgR-rZ",
        "colab": {}
      },
      "source": [
        "BATCH_SIZE = 32\n",
        "GAMMA = 0.8 # original 0.999\n",
        "EPS_START = .9\n",
        "EPS_END = 0.05\n",
        "EPS_DECAY = 800\n",
        "TARGET_UPDATE = 10\n",
        "\n",
        "# Get screen size so that we can initialize layers correctly based on shape\n",
        "screen_height, screen_width = env.board.shape\n",
        "\n",
        "# Get number of actions from gym action space\n",
        "n_actions = env.n_actions\n",
        "\n",
        "policy_net = DQN(screen_height, screen_width, n_actions).to(device)\n",
        "target_net = DQN(screen_height, screen_width, n_actions).to(device)\n",
        "target_net.load_state_dict(policy_net.state_dict())\n",
        "target_net.eval()\n",
        "\n",
        "optimizer = optim.RMSprop(policy_net.parameters(),lr=0.00008)#, weight_decay=0.0001\n",
        "memory = ReplayMemory(20_000)\n",
        "\n",
        "\n",
        "steps_done = 0\n",
        "\n",
        "def select_action(state, testing=False):\n",
        "    global steps_done\n",
        "    sample = random.random()\n",
        "    eps_threshold = EPS_END + (EPS_START - EPS_END) * \\\n",
        "        exp(-1. * steps_done / EPS_DECAY)\n",
        "    steps_done += 1\n",
        "    if sample > eps_threshold or testing:\n",
        "        with torch.no_grad():\n",
        "            # t.max(1) will return largest column value of each row.\n",
        "            # second column on max result is index of where max element was\n",
        "            # found, so we pick action with the larger expected reward.\n",
        "#             return policy_net(state).max(1)[1].view(1, 1)\n",
        "            tmp = policy_net(state)\n",
        "            return tmp.max(1)[1].view(1, 1)\n",
        "    else:\n",
        "        return torch.tensor([[random.randrange(n_actions)]], device=device, dtype=torch.long)"
      ],
      "execution_count": 0,
      "outputs": []
    },
    {
      "cell_type": "code",
      "metadata": {
        "colab_type": "code",
        "id": "T03S3qetti-J",
        "colab": {}
      },
      "source": [
        "thresholds = []\n",
        "rewards = []\n",
        "\n",
        "def plot_rewards():\n",
        "    plt.title('Training...')\n",
        "    plt.xlabel('Episode')\n",
        "    plt.plot(np.array(rewards), 'o', label=\"rewards\")\n",
        "    if thresholds:\n",
        "        plt.plot(np.array(thresholds), label=\"epsilon\")\n",
        "    plt.grid(); plt.legend()"
      ],
      "execution_count": 0,
      "outputs": []
    },
    {
      "cell_type": "code",
      "metadata": {
        "colab_type": "code",
        "id": "WmUTaUjVTCiZ",
        "colab": {}
      },
      "source": [
        "def optimize_model():\n",
        "    if len(memory) < BATCH_SIZE:\n",
        "        return\n",
        "    transitions = memory.sample(BATCH_SIZE)\n",
        "    # Transpose the batch (see https://stackoverflow.com/a/19343/3343043 for\n",
        "    # detailed explanation). This converts batch-array of Transitions\n",
        "    # to Transition of batch-arrays.\n",
        "    batch = Transition(*zip(*transitions))\n",
        "\n",
        "    # Compute a mask of non-final states and concatenate the batch elements\n",
        "    # (a final state would've been the one after which simulation ended)\n",
        "    non_final_mask = torch.tensor(tuple(map(lambda s: s is not None,\n",
        "                                          batch.next_state)), device=device, dtype=torch.uint8)\n",
        "    non_final_next_states = torch.cat([s for s in batch.next_state\n",
        "                                                if s is not None])\n",
        "    state_batch = torch.cat(batch.state)\n",
        "    action_batch = torch.cat(batch.action)\n",
        "    reward_batch = torch.cat(batch.reward)\n",
        "\n",
        "    # Compute Q(s_t, a) - the model computes Q(s_t), then we select the\n",
        "    # columns of actions taken. These are the actions which would've been taken\n",
        "    # for each batch state according to policy_net\n",
        "    state_action_values = policy_net(state_batch).gather(1, action_batch)\n",
        "\n",
        "    # Compute V(s_{t+1}) for all next states.\n",
        "    # Expected values of actions for non_final_next_states are computed based\n",
        "    # on the \"older\" target_net; selecting their best reward with max(1)[0].\n",
        "    # This is merged based on the mask, such that we'll have either the expected\n",
        "    # state value or 0 in case the state was final.\n",
        "    next_state_values = torch.zeros(BATCH_SIZE, device=device)\n",
        "    next_state_values[non_final_mask] = target_net(non_final_next_states).max(1)[0].detach()\n",
        "    # Compute the expected Q values\n",
        "    expected_state_action_values = (next_state_values * GAMMA) + reward_batch\n",
        "\n",
        "    # Compute Huber loss\n",
        "    loss = F.smooth_l1_loss(state_action_values, expected_state_action_values.unsqueeze(1))\n",
        "\n",
        "    # Optimize the model\n",
        "    optimizer.zero_grad()\n",
        "    loss.backward()\n",
        "    for param in policy_net.parameters():\n",
        "        param.grad.data.clamp_(-1, 1)\n",
        "    optimizer.step()"
      ],
      "execution_count": 0,
      "outputs": []
    },
    {
      "cell_type": "code",
      "metadata": {
        "colab_type": "code",
        "id": "JB0m_9bVTFX8",
        "outputId": "ddefa14d-3c87-4a81-a7a2-82c20efa096d",
        "colab": {
          "base_uri": "https://localhost:8080/",
          "height": 343
        }
      },
      "source": [
        "from tqdm import tqdm\n",
        "\n",
        "rewards = []\n",
        "thresholds = []\n",
        "\n",
        "timeout_limit = 400\n",
        "timeout_count = 0\n",
        "\n",
        "num_episodes = 800\n",
        "for i_episode in tqdm(range(num_episodes)):\n",
        "    # Initialize the environment and state\n",
        "    \n",
        "#     if i_episode > num_episodes * .5: EPS_END = 0    \n",
        "    \n",
        "    env.reset()\n",
        "    last_screen = get_screen()\n",
        "    current_screen = get_screen()\n",
        "    state = current_screen - last_screen\n",
        "    for t in count():\n",
        "        # Select and perform an action\n",
        "        action = select_action(state)\n",
        "        obs, reward, done, _ = env.step(action.item())\n",
        "        reward = torch.tensor([reward], device=device)\n",
        "\n",
        "        \n",
        "#         print(reward.item())\n",
        "#         img = get_screen().cpu().squeeze().numpy()\n",
        "#         plt.imshow(img, interpolation='none', cmap=\"gray\")\n",
        "#         plt.show()\n",
        "        \n",
        "\n",
        "        # Observe new state\n",
        "        last_screen = current_screen\n",
        "        current_screen = get_screen()\n",
        "        if not done:\n",
        "            next_state = current_screen - last_screen\n",
        "        else:\n",
        "            next_state = None\n",
        "\n",
        "        # Store the transition in memory\n",
        "        memory.push(state, action, next_state, reward)\n",
        "\n",
        "        # Move to the next state\n",
        "        state = next_state\n",
        "\n",
        "        # Perform one step of the optimization (on the target network)\n",
        "        optimize_model()\n",
        "        if done or t > timeout_limit:\n",
        "            eps_threshold = EPS_END + (EPS_START - EPS_END) * \\\n",
        "                exp(-1. * steps_done / EPS_DECAY)\n",
        "            thresholds.append(eps_threshold)\n",
        "            rewards.append(1 if obs['win'] else 0)\n",
        "            if t > timeout_limit:\n",
        "                timeout_count += 1\n",
        "            break\n",
        "    if (i_episode+1) % 50 == 0:\n",
        "        print(f'\\tMean:{np.mean(rewards[-50:]):.4}\\teps:{np.mean(thresholds[-50:]):.4}\\tTOrate:{timeout_count / 50:.2}')\n",
        "        timeout_count = 0\n",
        "\n",
        "    # Update the target network, copying all weights and biases in DQN\n",
        "    if i_episode % TARGET_UPDATE == 0:\n",
        "        target_net.load_state_dict(policy_net.state_dict())\n",
        "\n",
        "print('Complete')"
      ],
      "execution_count": 10,
      "outputs": [
        {
          "output_type": "stream",
          "text": [
            "  6%|▋         | 50/800 [00:02<00:32, 23.31it/s]"
          ],
          "name": "stderr"
        },
        {
          "output_type": "stream",
          "text": [
            "\tMean:0.6\teps:0.6662\tTOrate:0.0\n"
          ],
          "name": "stdout"
        },
        {
          "output_type": "stream",
          "text": [
            " 12%|█▎        | 100/800 [00:12<10:35,  1.10it/s]"
          ],
          "name": "stderr"
        },
        {
          "output_type": "stream",
          "text": [
            "\tMean:0.68\teps:0.3041\tTOrate:0.02\n"
          ],
          "name": "stdout"
        },
        {
          "output_type": "stream",
          "text": [
            " 19%|█▊        | 149/800 [00:35<16:12,  1.49s/it]"
          ],
          "name": "stderr"
        },
        {
          "output_type": "stream",
          "text": [
            "\tMean:0.72\teps:0.06194\tTOrate:0.18\n"
          ],
          "name": "stdout"
        },
        {
          "output_type": "stream",
          "text": [
            " 25%|██▍       | 199/800 [00:56<03:35,  2.79it/s]"
          ],
          "name": "stderr"
        },
        {
          "output_type": "stream",
          "text": [
            "\tMean:0.84\teps:0.05002\tTOrate:0.1\n"
          ],
          "name": "stdout"
        },
        {
          "output_type": "stream",
          "text": [
            " 31%|███▏      | 250/800 [01:20<02:00,  4.57it/s]"
          ],
          "name": "stderr"
        },
        {
          "output_type": "stream",
          "text": [
            "\tMean:0.68\teps:0.05\tTOrate:0.18\n"
          ],
          "name": "stdout"
        },
        {
          "output_type": "stream",
          "text": [
            " 37%|███▋      | 298/800 [01:42<09:43,  1.16s/it]"
          ],
          "name": "stderr"
        },
        {
          "output_type": "stream",
          "text": [
            "\tMean:0.76\teps:0.05\tTOrate:0.14\n"
          ],
          "name": "stdout"
        },
        {
          "output_type": "stream",
          "text": [
            " 44%|████▍     | 350/800 [02:20<04:49,  1.56it/s]"
          ],
          "name": "stderr"
        },
        {
          "output_type": "stream",
          "text": [
            "\tMean:0.7\teps:0.05\tTOrate:0.26\n"
          ],
          "name": "stdout"
        },
        {
          "output_type": "stream",
          "text": [
            " 50%|█████     | 400/800 [02:43<04:38,  1.44it/s]"
          ],
          "name": "stderr"
        },
        {
          "output_type": "stream",
          "text": [
            "\tMean:0.7\teps:0.05\tTOrate:0.14\n"
          ],
          "name": "stdout"
        },
        {
          "output_type": "stream",
          "text": [
            " 56%|█████▋    | 452/800 [03:14<03:21,  1.73it/s]"
          ],
          "name": "stderr"
        },
        {
          "output_type": "stream",
          "text": [
            "\tMean:0.78\teps:0.05\tTOrate:0.16\n"
          ],
          "name": "stdout"
        },
        {
          "output_type": "stream",
          "text": [
            " 62%|██████▎   | 500/800 [03:33<01:47,  2.79it/s]"
          ],
          "name": "stderr"
        },
        {
          "output_type": "stream",
          "text": [
            "\tMean:0.8\teps:0.05\tTOrate:0.1\n"
          ],
          "name": "stdout"
        },
        {
          "output_type": "stream",
          "text": [
            " 68%|██████▊   | 547/800 [04:16<03:39,  1.15it/s]"
          ],
          "name": "stderr"
        },
        {
          "output_type": "stream",
          "text": [
            "\tMean:0.64\teps:0.05\tTOrate:0.22\n"
          ],
          "name": "stdout"
        },
        {
          "output_type": "stream",
          "text": [
            " 76%|███████▌  | 605/800 [04:42<00:27,  7.21it/s]"
          ],
          "name": "stderr"
        },
        {
          "output_type": "stream",
          "text": [
            "\tMean:0.68\teps:0.05\tTOrate:0.18\n"
          ],
          "name": "stdout"
        },
        {
          "output_type": "stream",
          "text": [
            " 81%|████████  | 648/800 [05:07<03:06,  1.23s/it]"
          ],
          "name": "stderr"
        },
        {
          "output_type": "stream",
          "text": [
            "\tMean:0.68\teps:0.05\tTOrate:0.14\n"
          ],
          "name": "stdout"
        },
        {
          "output_type": "stream",
          "text": [
            " 87%|████████▋ | 698/800 [05:49<03:16,  1.92s/it]"
          ],
          "name": "stderr"
        },
        {
          "output_type": "stream",
          "text": [
            "\tMean:0.6\teps:0.05\tTOrate:0.32\n"
          ],
          "name": "stdout"
        },
        {
          "output_type": "stream",
          "text": [
            " 94%|█████████▍| 750/800 [06:23<00:53,  1.07s/it]"
          ],
          "name": "stderr"
        },
        {
          "output_type": "stream",
          "text": [
            "\tMean:0.62\teps:0.05\tTOrate:0.2\n"
          ],
          "name": "stdout"
        },
        {
          "output_type": "stream",
          "text": [
            "100%|██████████| 800/800 [06:46<00:00,  1.33it/s]"
          ],
          "name": "stderr"
        },
        {
          "output_type": "stream",
          "text": [
            "\tMean:0.74\teps:0.05\tTOrate:0.12\n",
            "Complete\n"
          ],
          "name": "stdout"
        },
        {
          "output_type": "stream",
          "text": [
            "\n"
          ],
          "name": "stderr"
        }
      ]
    },
    {
      "cell_type": "code",
      "metadata": {
        "colab_type": "code",
        "id": "rrr-WLK_T-h3",
        "colab": {
          "base_uri": "https://localhost:8080/",
          "height": 295
        },
        "outputId": "bc8db76d-63be-4f94-80ba-bec1846ebdc3"
      },
      "source": [
        "plot_rewards()\n",
        "plt.show()\n",
        "print(np.mean(rewards))"
      ],
      "execution_count": 12,
      "outputs": [
        {
          "output_type": "display_data",
          "data": {
            "image/png": "[encoded data removed]",
            "text/plain": [
              "<Figure size 432x288 with 1 Axes>"
            ]
          },
          "metadata": {
            "tags": []
          }
        }
      ]
    },
    {
      "cell_type": "code",
      "metadata": {
        "colab_type": "code",
        "id": "xt-JybUoYqqB",
        "colab": {}
      },
      "source": [
        "policy_net.eval()\n",
        "torch.no_grad();"
      ],
      "execution_count": 0,
      "outputs": []
    },
    {
      "cell_type": "code",
      "metadata": {
        "id": "ssXkqvbg3DKY",
        "colab_type": "code",
        "colab": {
          "base_uri": "https://localhost:8080/",
          "height": 126
        },
        "outputId": "cf286897-600d-45fe-fa9a-75eedd8eafd1"
      },
      "source": [
        "from tqdm import tqdm\n",
        "\n",
        "rewards = []\n",
        "thresholds = []\n",
        "\n",
        "EPS_END = 0\n",
        "\n",
        "timeout_count = 0\n",
        "\n",
        "num_episodes = 200\n",
        "for i_episode in tqdm(range(num_episodes)):\n",
        "    # Initialize the environment and state\n",
        "    \n",
        "    env.reset()\n",
        "    last_screen = get_screen()\n",
        "    current_screen = get_screen()\n",
        "    state = current_screen - last_screen\n",
        "    for t in count():\n",
        "        # Select and perform an action\n",
        "        action = select_action(state, testing = True)\n",
        "        _, reward, done, _ = env.step(action.item())\n",
        "        reward = torch.tensor([reward], device=device)\n",
        "\n",
        "        # Observe new state\n",
        "        last_screen = current_screen\n",
        "        current_screen = get_screen()\n",
        "        if not done:\n",
        "            next_state = current_screen - last_screen\n",
        "        else:\n",
        "            next_state = None\n",
        "\n",
        "        # Move to the next state\n",
        "        state = next_state\n",
        "\n",
        "        if done or t > timeout_limit:\n",
        "            rewards.append(1 if reward.item() > 0 else 0)\n",
        "            break\n",
        "    if (i_episode+1) % 50 == 0:\n",
        "        print(f'\\tMean:{np.mean(rewards[-50:]):.4}\\tTOrate:{timeout_count / i_episode%50:.2}')\n",
        "        timeout_count = 0\n",
        "\n",
        "\n",
        "print('Complete')"
      ],
      "execution_count": 13,
      "outputs": [
        {
          "output_type": "stream",
          "text": [
            " 25%|██▌       | 50/200 [00:04<00:14, 10.03it/s]"
          ],
          "name": "stderr"
        },
        {
          "output_type": "stream",
          "text": [
            "\tMean:0.78\tTOrate:0.0\n"
          ],
          "name": "stdout"
        },
        {
          "output_type": "stream",
          "text": [
            " 46%|████▌     | 91/200 [00:07<00:10, 10.49it/s]"
          ],
          "name": "stderr"
        },
        {
          "output_type": "stream",
          "text": [
            "\tMean:0.8\tTOrate:0.0\n"
          ],
          "name": "stdout"
        },
        {
          "output_type": "stream",
          "text": [
            " 74%|███████▍  | 149/200 [00:12<00:09,  5.42it/s]"
          ],
          "name": "stderr"
        },
        {
          "output_type": "stream",
          "text": [
            "\tMean:0.72\tTOrate:0.0\n"
          ],
          "name": "stdout"
        },
        {
          "output_type": "stream",
          "text": [
            "100%|██████████| 200/200 [00:16<00:00, 12.01it/s]"
          ],
          "name": "stderr"
        },
        {
          "output_type": "stream",
          "text": [
            "\tMean:0.78\tTOrate:0.0\n",
            "Complete\n"
          ],
          "name": "stdout"
        },
        {
          "output_type": "stream",
          "text": [
            "\n"
          ],
          "name": "stderr"
        }
      ]
    },
    {
      "cell_type": "code",
      "metadata": {
        "id": "ZgTJnqW53C-v",
        "colab_type": "code",
        "colab": {
          "base_uri": "https://localhost:8080/",
          "height": 295
        },
        "outputId": "8f6a5dce-e070-4959-9d89-5033c9aa28fa"
      },
      "source": [
        "plot_rewards()\n",
        "plt.show()\n",
        "print(np.mean(rewards))"
      ],
      "execution_count": 14,
      "outputs": [
        {
          "output_type": "display_data",
          "data": {
            "image/png": "[encoded data removed]",
            "text/plain": [
              "<Figure size 432x288 with 1 Axes>"
            ]
          },
          "metadata": {
            "tags": []
          }
        }
      ]
    },
    {
      "cell_type": "code",
      "metadata": {
        "id": "W5AjbvQGhk98",
        "colab_type": "code",
        "colab": {
          "base_uri": "https://localhost:8080/",
          "height": 126
        },
        "outputId": "837db15a-a23b-462c-b5a2-66746da65c05"
      },
      "source": [
        "from tqdm import tqdm\n",
        "\n",
        "rewards = []\n",
        "thresholds = []\n",
        "\n",
        "env.target_row -= 1\n",
        "env.slider_row += 1\n",
        "\n",
        "timeout_count = 0\n",
        "\n",
        "num_episodes = 200\n",
        "for i_episode in tqdm(range(num_episodes)):\n",
        "    # Initialize the environment and state\n",
        "    \n",
        "    env.reset()\n",
        "    last_screen = get_screen()\n",
        "    current_screen = get_screen()\n",
        "    state = current_screen - last_screen\n",
        "    for t in count():\n",
        "        # Select and perform an action\n",
        "        action = select_action(state, testing = True)\n",
        "        _, reward, done, _ = env.step(action.item())\n",
        "        reward = torch.tensor([reward], device=device)\n",
        "\n",
        "        # Observe new state\n",
        "        last_screen = current_screen\n",
        "        current_screen = get_screen()\n",
        "        if not done:\n",
        "            next_state = current_screen - last_screen\n",
        "        else:\n",
        "            next_state = None\n",
        "\n",
        "        # Move to the next state\n",
        "        state = next_state\n",
        "\n",
        "        if done or t > 1000:\n",
        "            rewards.append(1 if reward.item() > 0 else 0)\n",
        "            break\n",
        "    if (i_episode+1) % 50 == 0:\n",
        "        print(f'\\tMean:{np.mean(rewards[-50:]):.4}\\tTOrate:{timeout_count / i_episode%50:.2}')\n",
        "        timeout_count = 0\n",
        "\n",
        "\n",
        "print('Complete')"
      ],
      "execution_count": 15,
      "outputs": [
        {
          "output_type": "stream",
          "text": [
            " 39%|███▉      | 78/200 [00:00<00:00, 252.84it/s]"
          ],
          "name": "stderr"
        },
        {
          "output_type": "stream",
          "text": [
            "\tMean:0.6\tTOrate:0.0\n",
            "\tMean:0.5\tTOrate:0.0\n"
          ],
          "name": "stdout"
        },
        {
          "output_type": "stream",
          "text": [
            "100%|██████████| 200/200 [00:00<00:00, 285.83it/s]"
          ],
          "name": "stderr"
        },
        {
          "output_type": "stream",
          "text": [
            "\tMean:0.54\tTOrate:0.0\n",
            "\tMean:0.46\tTOrate:0.0\n",
            "Complete\n"
          ],
          "name": "stdout"
        },
        {
          "output_type": "stream",
          "text": [
            "\n"
          ],
          "name": "stderr"
        }
      ]
    },
    {
      "cell_type": "code",
      "metadata": {
        "colab_type": "code",
        "id": "P5MeSbxOOvsZ",
        "colab": {
          "base_uri": "https://localhost:8080/",
          "height": 295
        },
        "outputId": "b061f862-4b4b-4fa9-9dad-b0e64c6a4592"
      },
      "source": [
        "plot_rewards()\n",
        "plt.show()\n",
        "print(np.mean(rewards))"
      ],
      "execution_count": 16,
      "outputs": [
        {
          "output_type": "display_data",
          "data": {
            "image/png": "[encoded data removed]",
            "text/plain": [
              "<Figure size 432x288 with 1 Axes>"
            ]
          },
          "metadata": {
            "tags": []
          }
        }
      ]
    }
  ]
}